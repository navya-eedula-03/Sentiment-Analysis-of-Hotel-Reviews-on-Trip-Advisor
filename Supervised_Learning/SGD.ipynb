{
 "cells": [
  {
   "cell_type": "code",
   "execution_count": 2,
   "metadata": {},
   "outputs": [],
   "source": [
    "import pandas as pd\n",
    "import numpy as np\n",
    "\n",
    "from nltk.corpus import stopwords\n",
    "from nltk.tokenize import word_tokenize\n",
    "from nltk.stem import WordNetLemmatizer\n",
    "from nltk.stem import PorterStemmer\n",
    "from nltk.tokenize import RegexpTokenizer"
   ]
  },
  {
   "cell_type": "code",
   "execution_count": 3,
   "metadata": {},
   "outputs": [
    {
     "name": "stdout",
     "output_type": "stream",
     "text": [
      "<class 'pandas.core.frame.DataFrame'>\n",
      "RangeIndex: 4768 entries, 0 to 4767\n",
      "Data columns (total 2 columns):\n",
      " #   Column       Non-Null Count  Dtype \n",
      "---  ------       --------------  ----- \n",
      " 0   Review_Text  4763 non-null   object\n",
      " 1   Sentiment    4766 non-null   object\n",
      "dtypes: object(2)\n",
      "memory usage: 74.6+ KB\n"
     ]
    }
   ],
   "source": [
    "# Read the data from CSV files\n",
    "temp = pd.read_csv('../For_preprocessing.csv')\n",
    "temp.info()"
   ]
  },
  {
   "cell_type": "code",
   "execution_count": 4,
   "metadata": {},
   "outputs": [],
   "source": [
    "temp=temp.dropna(subset=['Review_Text'])\n",
    "temp=temp.dropna(subset=['Sentiment'])\n",
    "temp = temp.reset_index(drop=True)\n",
    "temp_val = temp['Sentiment'].tolist()\n",
    "#len(temp_val)\n",
    "ind_list = []\n",
    "\n",
    "for i in range(len(temp['Sentiment'])):\n",
    "    if temp_val[i] != '1' and temp_val[i] != '2' and temp_val[i] != '3':\n",
    "        ind_list.append(i)\n",
    "temp.reset_index(drop=True)\n",
    "temp.drop(temp.index[ind_list], inplace=True)"
   ]
  },
  {
   "cell_type": "code",
   "execution_count": 5,
   "metadata": {},
   "outputs": [
    {
     "name": "stdout",
     "output_type": "stream",
     "text": [
      "<class 'pandas.core.frame.DataFrame'>\n",
      "RangeIndex: 4699 entries, 0 to 4698\n",
      "Data columns (total 2 columns):\n",
      " #   Column       Non-Null Count  Dtype \n",
      "---  ------       --------------  ----- \n",
      " 0   Review_Text  4699 non-null   object\n",
      " 1   Sentiment    4699 non-null   object\n",
      "dtypes: object(2)\n",
      "memory usage: 73.5+ KB\n"
     ]
    }
   ],
   "source": [
    "temp = temp.reset_index(drop=True)\n",
    "temp.info()"
   ]
  },
  {
   "cell_type": "code",
   "execution_count": 6,
   "metadata": {},
   "outputs": [],
   "source": [
    "def tokenize_reg():\n",
    "    temp['Review_Text'] = temp['Review_Text'].replace(r'http\\S+','',regex=True).replace(r'www\\S+','',regex=True).replace(r'\\d+','',regex=True)\n",
    "    tokens = RegexpTokenizer(r'\\w+')\n",
    "    temp['Review_Text']=temp['Review_Text'].apply(lambda x:tokens.tokenize(x.lower()))\n",
    "    stop_words = set(stopwords.words('english')) \n",
    "    stop_words = stop_words.union(\",\",\"(\",\")\",\"[\",\"]\",\"{\",\"}\",\"#\",\"@\",\"!\",\":\",\";\",\".\",\"?\")\n",
    "    temp['Review_Text'] = temp['Review_Text'].apply(lambda x: [item for item in x if item not in stop_words])\n",
    "tokenize_reg()"
   ]
  },
  {
   "cell_type": "code",
   "execution_count": 7,
   "metadata": {},
   "outputs": [],
   "source": [
    "lem = WordNetLemmatizer()\n",
    "def lemm(text):\n",
    "    sent=[]\n",
    "    for word in text:\n",
    "        sent.append(lem.lemmatize(word))\n",
    "    return sent\n",
    "\n",
    "ps=PorterStemmer()\n",
    "\n",
    "def stemm(text):        \n",
    "    sent = []\n",
    "    for word in text:\n",
    "        sent.append(ps.stem(word))\n",
    "    return sent\n",
    "\n",
    "temp['Review_Text'] =  temp.apply(lambda x: stemm(lemm(x['Review_Text'])), axis=1)"
   ]
  },
  {
   "cell_type": "code",
   "execution_count": 8,
   "metadata": {},
   "outputs": [
    {
     "data": {
      "text/html": [
       "<div>\n",
       "<style scoped>\n",
       "    .dataframe tbody tr th:only-of-type {\n",
       "        vertical-align: middle;\n",
       "    }\n",
       "\n",
       "    .dataframe tbody tr th {\n",
       "        vertical-align: top;\n",
       "    }\n",
       "\n",
       "    .dataframe thead th {\n",
       "        text-align: right;\n",
       "    }\n",
       "</style>\n",
       "<table border=\"1\" class=\"dataframe\">\n",
       "  <thead>\n",
       "    <tr style=\"text-align: right;\">\n",
       "      <th></th>\n",
       "      <th>Review_Text</th>\n",
       "      <th>Sentiment</th>\n",
       "    </tr>\n",
       "  </thead>\n",
       "  <tbody>\n",
       "    <tr>\n",
       "      <th>0</th>\n",
       "      <td>realli nice place stay especi busi tourist purpos</td>\n",
       "      <td>3</td>\n",
       "    </tr>\n",
       "    <tr>\n",
       "      <th>1</th>\n",
       "      <td>seem hotel check basic amen room hand room tra...</td>\n",
       "      <td>1</td>\n",
       "    </tr>\n",
       "    <tr>\n",
       "      <th>2</th>\n",
       "      <td>worst hotel ever encount never think stay thii...</td>\n",
       "      <td>1</td>\n",
       "    </tr>\n",
       "    <tr>\n",
       "      <th>3</th>\n",
       "      <td>good time hotel staff kumar aishwarya hous kee...</td>\n",
       "      <td>3</td>\n",
       "    </tr>\n",
       "    <tr>\n",
       "      <th>4</th>\n",
       "      <td>good hotel staff veg food good non veg breakfa...</td>\n",
       "      <td>3</td>\n",
       "    </tr>\n",
       "    <tr>\n",
       "      <th>...</th>\n",
       "      <td>...</td>\n",
       "      <td>...</td>\n",
       "    </tr>\n",
       "    <tr>\n",
       "      <th>4694</th>\n",
       "      <td>fifth stay hotel busi room great restaur excel...</td>\n",
       "      <td>3</td>\n",
       "    </tr>\n",
       "    <tr>\n",
       "      <th>4695</th>\n",
       "      <td>enjoy</td>\n",
       "      <td>3</td>\n",
       "    </tr>\n",
       "    <tr>\n",
       "      <th>4696</th>\n",
       "      <td>impress servic staff area good restaur fit cen...</td>\n",
       "      <td>3</td>\n",
       "    </tr>\n",
       "    <tr>\n",
       "      <th>4697</th>\n",
       "      <td>linen smell bad elev pungent odour housekeep p...</td>\n",
       "      <td>1</td>\n",
       "    </tr>\n",
       "    <tr>\n",
       "      <th>4698</th>\n",
       "      <td>stay hyatt chennai first time refresh chang ho...</td>\n",
       "      <td>3</td>\n",
       "    </tr>\n",
       "  </tbody>\n",
       "</table>\n",
       "<p>4699 rows × 2 columns</p>\n",
       "</div>"
      ],
      "text/plain": [
       "                                            Review_Text Sentiment\n",
       "0     realli nice place stay especi busi tourist purpos         3\n",
       "1     seem hotel check basic amen room hand room tra...         1\n",
       "2     worst hotel ever encount never think stay thii...         1\n",
       "3     good time hotel staff kumar aishwarya hous kee...         3\n",
       "4     good hotel staff veg food good non veg breakfa...         3\n",
       "...                                                 ...       ...\n",
       "4694  fifth stay hotel busi room great restaur excel...         3\n",
       "4695                                              enjoy         3\n",
       "4696  impress servic staff area good restaur fit cen...         3\n",
       "4697  linen smell bad elev pungent odour housekeep p...         1\n",
       "4698  stay hyatt chennai first time refresh chang ho...         3\n",
       "\n",
       "[4699 rows x 2 columns]"
      ]
     },
     "execution_count": 8,
     "metadata": {},
     "output_type": "execute_result"
    }
   ],
   "source": [
    "revs=temp['Review_Text'].tolist()\n",
    "for i in range(len(revs)):\n",
    "    revs[i]=' '.join(revs[i])\n",
    "temp['Review_Text'] = revs\n",
    "temp"
   ]
  },
  {
   "cell_type": "code",
   "execution_count": 9,
   "metadata": {},
   "outputs": [],
   "source": [
    "st = temp['Sentiment'].tolist()\n",
    "st=set(st)"
   ]
  },
  {
   "cell_type": "code",
   "execution_count": 10,
   "metadata": {},
   "outputs": [],
   "source": [
    "scale_mapper3 = {\"1\":0, \"2\":1, \"3\":2}\n",
    "temp['Sentiment'] = temp['Sentiment'].replace(scale_mapper3)"
   ]
  },
  {
   "cell_type": "code",
   "execution_count": 11,
   "metadata": {},
   "outputs": [
    {
     "name": "stdout",
     "output_type": "stream",
     "text": [
      "<class 'pandas.core.frame.DataFrame'>\n",
      "RangeIndex: 4699 entries, 0 to 4698\n",
      "Data columns (total 2 columns):\n",
      " #   Column       Non-Null Count  Dtype \n",
      "---  ------       --------------  ----- \n",
      " 0   Review_Text  4699 non-null   object\n",
      " 1   Sentiment    4699 non-null   int64 \n",
      "dtypes: int64(1), object(1)\n",
      "memory usage: 73.5+ KB\n"
     ]
    }
   ],
   "source": [
    "temp = temp.reset_index(drop=True)\n",
    "temp.info()"
   ]
  },
  {
   "cell_type": "code",
   "execution_count": 12,
   "metadata": {},
   "outputs": [
    {
     "data": {
      "text/html": [
       "<div>\n",
       "<style scoped>\n",
       "    .dataframe tbody tr th:only-of-type {\n",
       "        vertical-align: middle;\n",
       "    }\n",
       "\n",
       "    .dataframe tbody tr th {\n",
       "        vertical-align: top;\n",
       "    }\n",
       "\n",
       "    .dataframe thead th {\n",
       "        text-align: right;\n",
       "    }\n",
       "</style>\n",
       "<table border=\"1\" class=\"dataframe\">\n",
       "  <thead>\n",
       "    <tr style=\"text-align: right;\">\n",
       "      <th></th>\n",
       "      <th>Review_Text</th>\n",
       "      <th>Sentiment</th>\n",
       "    </tr>\n",
       "  </thead>\n",
       "  <tbody>\n",
       "    <tr>\n",
       "      <th>0</th>\n",
       "      <td>realli nice place stay especi busi tourist purpos</td>\n",
       "      <td>2</td>\n",
       "    </tr>\n",
       "    <tr>\n",
       "      <th>1</th>\n",
       "      <td>seem hotel check basic amen room hand room tra...</td>\n",
       "      <td>0</td>\n",
       "    </tr>\n",
       "    <tr>\n",
       "      <th>2</th>\n",
       "      <td>worst hotel ever encount never think stay thii...</td>\n",
       "      <td>0</td>\n",
       "    </tr>\n",
       "    <tr>\n",
       "      <th>3</th>\n",
       "      <td>good time hotel staff kumar aishwarya hous kee...</td>\n",
       "      <td>2</td>\n",
       "    </tr>\n",
       "    <tr>\n",
       "      <th>4</th>\n",
       "      <td>good hotel staff veg food good non veg breakfa...</td>\n",
       "      <td>2</td>\n",
       "    </tr>\n",
       "    <tr>\n",
       "      <th>...</th>\n",
       "      <td>...</td>\n",
       "      <td>...</td>\n",
       "    </tr>\n",
       "    <tr>\n",
       "      <th>4694</th>\n",
       "      <td>fifth stay hotel busi room great restaur excel...</td>\n",
       "      <td>2</td>\n",
       "    </tr>\n",
       "    <tr>\n",
       "      <th>4695</th>\n",
       "      <td>enjoy</td>\n",
       "      <td>2</td>\n",
       "    </tr>\n",
       "    <tr>\n",
       "      <th>4696</th>\n",
       "      <td>impress servic staff area good restaur fit cen...</td>\n",
       "      <td>2</td>\n",
       "    </tr>\n",
       "    <tr>\n",
       "      <th>4697</th>\n",
       "      <td>linen smell bad elev pungent odour housekeep p...</td>\n",
       "      <td>0</td>\n",
       "    </tr>\n",
       "    <tr>\n",
       "      <th>4698</th>\n",
       "      <td>stay hyatt chennai first time refresh chang ho...</td>\n",
       "      <td>2</td>\n",
       "    </tr>\n",
       "  </tbody>\n",
       "</table>\n",
       "<p>4699 rows × 2 columns</p>\n",
       "</div>"
      ],
      "text/plain": [
       "                                            Review_Text  Sentiment\n",
       "0     realli nice place stay especi busi tourist purpos          2\n",
       "1     seem hotel check basic amen room hand room tra...          0\n",
       "2     worst hotel ever encount never think stay thii...          0\n",
       "3     good time hotel staff kumar aishwarya hous kee...          2\n",
       "4     good hotel staff veg food good non veg breakfa...          2\n",
       "...                                                 ...        ...\n",
       "4694  fifth stay hotel busi room great restaur excel...          2\n",
       "4695                                              enjoy          2\n",
       "4696  impress servic staff area good restaur fit cen...          2\n",
       "4697  linen smell bad elev pungent odour housekeep p...          0\n",
       "4698  stay hyatt chennai first time refresh chang ho...          2\n",
       "\n",
       "[4699 rows x 2 columns]"
      ]
     },
     "execution_count": 12,
     "metadata": {},
     "output_type": "execute_result"
    }
   ],
   "source": [
    "temp"
   ]
  },
  {
   "cell_type": "code",
   "execution_count": 9,
   "metadata": {},
   "outputs": [],
   "source": [
    "from sklearn.pipeline import Pipeline\n",
    "from sklearn.svm import SVC\n",
    "from sklearn.feature_extraction.text import CountVectorizer, TfidfTransformer\n",
    "from sklearn.model_selection import train_test_split, GridSearchCV\n",
    "from sklearn.linear_model import SGDClassifier\n",
    "\n",
    "\n",
    "text_clf = Pipeline([('vect', CountVectorizer()),\n",
    "                     ('tfidf', TfidfTransformer()),\n",
    "                     ('clf', SGDClassifier(random_state=0, class_weight='balanced'))])\n",
    "\n",
    "tuned_parameters = {\n",
    "    'vect__ngram_range': [(1, 1), (1, 2), (2, 2)],\n",
    "    'tfidf__use_idf': (True, False),\n",
    "    'tfidf__norm': ('l1', 'l2'),\n",
    "    'clf__loss': ['log'],\n",
    "    'clf__penalty': ['elasticnet'],\n",
    "    'clf__alpha': [10 ** x for x in range(-6, 1)],\n",
    "    'clf__l1_ratio': [0, 0.05, 0.1, 0.2, 0.5, 0.8, 0.9, 0.95, 1]\n",
    "}"
   ]
  },
  {
   "cell_type": "markdown",
   "metadata": {},
   "source": [
    "The dataset was plited into train and test subsets."
   ]
  },
  {
   "cell_type": "code",
   "execution_count": 10,
   "metadata": {},
   "outputs": [],
   "source": [
    "x_train, x_test, y_train, y_test = train_test_split(temp['Review_Text'], temp['Sentiment'], test_size=0.33, random_state=42)"
   ]
  },
  {
   "cell_type": "code",
   "execution_count": 11,
   "metadata": {},
   "outputs": [],
   "source": [
    "# from sklearn.metrics import confusion_matrix, classification_report,accuracy_score\n",
    "\n",
    "# score = 'f1_macro'\n",
    "# print(\"# Tuning hyper-parameters for %s\" % score)\n",
    "# print()\n",
    "# np.errstate(divide='ignore')\n",
    "# clf = GridSearchCV(text_clf, tuned_parameters, cv=10, scoring=score,n_jobs=4)\n",
    "# clf.fit(x_train, y_train)\n",
    "\n",
    "# print(\"Best parameters set found on development set:\")\n",
    "# print()\n",
    "# print(clf.best_params_)\n",
    "# print()\n",
    "# print(\"Grid scores on development set:\")\n",
    "# print()\n",
    "# for mean, std, params in zip(clf.cv_results_['mean_test_score'], \n",
    "#                              clf.cv_results_['std_test_score'], \n",
    "#                              clf.cv_results_['params']):\n",
    "#     print(\"%0.3f (+/-%0.03f) for %r\" % (mean, std * 2, params))\n",
    "# print()\n",
    "\n",
    "# print(\"Detailed classification report:\")\n",
    "# print()\n",
    "# print(\"The model is trained on the full development set.\")\n",
    "# print(\"The scores are computed on the full evaluation set.\")\n",
    "# print()\n",
    "# print(classification_report(y_test, clf.predict(x_test), digits=4))\n",
    "# print()\n",
    "# print (\"Confusion Matrix\")\n",
    "# print(confusion_matrix(y_test, clf.predict(x_test)))\n",
    "# print(\"Accuracy Score\")\n",
    "# print(accuracy_score(y_test, clf.predict(x_test)))"
   ]
  },
  {
   "cell_type": "code",
   "execution_count": 12,
   "metadata": {},
   "outputs": [
    {
     "name": "stdout",
     "output_type": "stream",
     "text": [
      "Fitting 5 folds for each of 756 candidates, totalling 3780 fits\n"
     ]
    },
    {
     "name": "stderr",
     "output_type": "stream",
     "text": [
      "[Parallel(n_jobs=4)]: Using backend LokyBackend with 4 concurrent workers.\n",
      "[Parallel(n_jobs=4)]: Done  33 tasks      | elapsed:    4.4s\n",
      "[Parallel(n_jobs=4)]: Done 154 tasks      | elapsed:   14.1s\n",
      "[Parallel(n_jobs=4)]: Done 357 tasks      | elapsed:   30.6s\n",
      "[Parallel(n_jobs=4)]: Done 640 tasks      | elapsed:   54.6s\n",
      "[Parallel(n_jobs=4)]: Done 1005 tasks      | elapsed:  1.4min\n",
      "[Parallel(n_jobs=4)]: Done 1450 tasks      | elapsed:  2.0min\n",
      "[Parallel(n_jobs=4)]: Done 1977 tasks      | elapsed:  2.7min\n",
      "[Parallel(n_jobs=4)]: Done 2584 tasks      | elapsed:  3.4min\n",
      "[Parallel(n_jobs=4)]: Done 3273 tasks      | elapsed:  4.3min\n",
      "[Parallel(n_jobs=4)]: Done 3780 out of 3780 | elapsed:  4.9min finished\n"
     ]
    },
    {
     "data": {
      "text/plain": [
       "GridSearchCV(estimator=Pipeline(steps=[('vect', CountVectorizer()),\n",
       "                                       ('tfidf', TfidfTransformer()),\n",
       "                                       ('clf',\n",
       "                                        SGDClassifier(class_weight='balanced',\n",
       "                                                      random_state=0))]),\n",
       "             n_jobs=4,\n",
       "             param_grid={'clf__alpha': [1e-06, 1e-05, 0.0001, 0.001, 0.01, 0.1,\n",
       "                                        1],\n",
       "                         'clf__l1_ratio': [0, 0.05, 0.1, 0.2, 0.5, 0.8, 0.9,\n",
       "                                           0.95, 1],\n",
       "                         'clf__loss': ['log'], 'clf__penalty': ['elasticnet'],\n",
       "                         'tfidf__norm': ('l1', 'l2'),\n",
       "                         'tfidf__use_idf': (True, False),\n",
       "                         'vect__ngram_range': [(1, 1), (1, 2), (2, 2)]},\n",
       "             verbose=2)"
      ]
     },
     "execution_count": 12,
     "metadata": {},
     "output_type": "execute_result"
    }
   ],
   "source": [
    "grid = GridSearchCV(text_clf,tuned_parameters,refit = True, verbose=2, n_jobs = 4)\n",
    "grid.fit(x_train,y_train)"
   ]
  },
  {
   "cell_type": "code",
   "execution_count": 13,
   "metadata": {},
   "outputs": [
    {
     "name": "stdout",
     "output_type": "stream",
     "text": [
      "Best parameters set found on development set:\n",
      "\n",
      "{'clf__alpha': 1e-06, 'clf__l1_ratio': 0, 'clf__loss': 'log', 'clf__penalty': 'elasticnet', 'tfidf__norm': 'l1', 'tfidf__use_idf': True, 'vect__ngram_range': (1, 2)}\n"
     ]
    }
   ],
   "source": [
    "print(\"Best parameters set found on development set:\")\n",
    "print()\n",
    "print(grid.best_params_)\n"
   ]
  },
  {
   "cell_type": "code",
   "execution_count": 20,
   "metadata": {},
   "outputs": [
    {
     "data": {
      "text/plain": [
       "Pipeline(steps=[('vect', CountVectorizer(ngram_range=(1, 2))),\n",
       "                ('tfidf', TfidfTransformer()),\n",
       "                ('clf',\n",
       "                 SGDClassifier(alpha=1e-06, class_weight='balanced', l1_ratio=0,\n",
       "                               loss='log', penalty='elasticnet',\n",
       "                               random_state=0))])"
      ]
     },
     "execution_count": 20,
     "metadata": {},
     "output_type": "execute_result"
    }
   ],
   "source": [
    "best_clf = Pipeline([('vect', CountVectorizer(ngram_range= (1, 2))),\n",
    "                     ('tfidf', TfidfTransformer(use_idf= True, norm= 'l2')),\n",
    "                     ('clf', SGDClassifier(random_state=0, class_weight='balanced', \n",
    "                                 alpha = 1e-06, l1_ratio =  0, loss= 'log', \n",
    "                                 penalty =  'elasticnet'))])\n",
    "best_clf.fit(x_train,y_train)"
   ]
  },
  {
   "cell_type": "code",
   "execution_count": 21,
   "metadata": {},
   "outputs": [
    {
     "name": "stdout",
     "output_type": "stream",
     "text": [
      "Detailed classification report:\n",
      "\n",
      "The model is trained on the full development set.\n",
      "The scores are computed on the full evaluation set.\n",
      "\n",
      "              precision    recall  f1-score   support\n",
      "\n",
      "           1     0.6626    0.6667    0.6646       162\n",
      "           2     0.5972    0.4760    0.5298       271\n",
      "           3     0.8882    0.9311    0.9092      1118\n",
      "\n",
      "    accuracy                         0.8240      1551\n",
      "   macro avg     0.7160    0.6913    0.7012      1551\n",
      "weighted avg     0.8138    0.8240    0.8173      1551\n",
      "\n",
      "\n",
      "Confusion Matrix\n",
      "[[ 108   25   29]\n",
      " [  40  129  102]\n",
      " [  15   62 1041]]\n",
      "Accuracy Score\n",
      "0.8239845261121856\n"
     ]
    }
   ],
   "source": [
    "from sklearn.metrics import confusion_matrix, classification_report,accuracy_score\n",
    "\n",
    "print(\"Detailed classification report:\")\n",
    "print()\n",
    "print(\"The model is trained on the full development set.\")\n",
    "print(\"The scores are computed on the full evaluation set.\")\n",
    "print()\n",
    "print(classification_report(y_test, best_clf.predict(x_test), digits=4))\n",
    "print()\n",
    "print (\"Confusion Matrix\")\n",
    "print(confusion_matrix(y_test, best_clf.predict(x_test)))\n",
    "print(\"Accuracy Score\")\n",
    "print(accuracy_score(y_test, best_clf.predict(x_test)))\n"
   ]
  },
  {
   "cell_type": "code",
   "execution_count": 16,
   "metadata": {},
   "outputs": [
    {
     "data": {
      "text/plain": [
       "Pipeline(steps=[('vect', CountVectorizer()), ('tfidf', TfidfTransformer()),\n",
       "                ('clf',\n",
       "                 SGDClassifier(class_weight='balanced', random_state=0))])"
      ]
     },
     "execution_count": 16,
     "metadata": {},
     "output_type": "execute_result"
    }
   ],
   "source": [
    "wo_hyp_clf = Pipeline([('vect', CountVectorizer()),\n",
    "                     ('tfidf', TfidfTransformer()),\n",
    "                     ('clf', SGDClassifier(random_state=0, class_weight='balanced'))])\n",
    "\n",
    "wo_hyp_clf.fit(x_train,y_train)"
   ]
  },
  {
   "cell_type": "code",
   "execution_count": 17,
   "metadata": {},
   "outputs": [
    {
     "name": "stdout",
     "output_type": "stream",
     "text": [
      "Detailed classification report:\n",
      "\n",
      "The model is trained on the full development set.\n",
      "The scores are computed on the full evaluation set.\n",
      "\n",
      "              precision    recall  f1-score   support\n",
      "\n",
      "           1     0.6228    0.6420    0.6322       162\n",
      "           2     0.5520    0.5092    0.5298       271\n",
      "           3     0.8924    0.9052    0.8988      1118\n",
      "\n",
      "    accuracy                         0.8085      1551\n",
      "   macro avg     0.6891    0.6855    0.6869      1551\n",
      "weighted avg     0.8048    0.8085    0.8064      1551\n",
      "\n",
      "\n",
      "Confusion Matrix\n",
      "[[ 104   28   30]\n",
      " [  41  138   92]\n",
      " [  22   84 1012]]\n",
      "Accuracy Score\n",
      "0.8085106382978723\n"
     ]
    }
   ],
   "source": [
    "from sklearn.metrics import confusion_matrix, classification_report,accuracy_score\n",
    "\n",
    "print(\"Detailed classification report:\")\n",
    "print()\n",
    "print(\"The model is trained on the full development set.\")\n",
    "print(\"The scores are computed on the full evaluation set.\")\n",
    "print()\n",
    "print(classification_report(y_test, wo_hyp_clf.predict(x_test), digits=4))\n",
    "print()\n",
    "print (\"Confusion Matrix\")\n",
    "print(confusion_matrix(y_test, wo_hyp_clf.predict(x_test)))\n",
    "print(\"Accuracy Score\")\n",
    "print(accuracy_score(y_test, wo_hyp_clf.predict(x_test)))\n"
   ]
  },
  {
   "cell_type": "code",
   "execution_count": null,
   "metadata": {},
   "outputs": [],
   "source": []
  }
 ],
 "metadata": {
  "kernelspec": {
   "display_name": "Python 3",
   "language": "python",
   "name": "python3"
  },
  "language_info": {
   "codemirror_mode": {
    "name": "ipython",
    "version": 3
   },
   "file_extension": ".py",
   "mimetype": "text/x-python",
   "name": "python",
   "nbconvert_exporter": "python",
   "pygments_lexer": "ipython3",
   "version": "3.8.3"
  }
 },
 "nbformat": 4,
 "nbformat_minor": 1
}
