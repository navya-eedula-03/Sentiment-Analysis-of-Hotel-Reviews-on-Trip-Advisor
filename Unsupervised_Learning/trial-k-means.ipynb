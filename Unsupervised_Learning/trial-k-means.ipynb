{
 "cells": [
  {
   "cell_type": "code",
   "execution_count": 1,
   "metadata": {},
   "outputs": [],
   "source": [
    "import pandas as pd\n",
    "import numpy as np\n",
    "\n",
    "from nltk.corpus import stopwords\n",
    "from nltk.tokenize import word_tokenize\n",
    "from nltk.stem import WordNetLemmatizer\n",
    "from nltk.stem import PorterStemmer\n",
    "from nltk.tokenize import RegexpTokenizer\n",
    "\n",
    "from sklearn.feature_extraction.text import TfidfVectorizer\n",
    "from sklearn.cluster import KMeans"
   ]
  },
  {
   "cell_type": "code",
   "execution_count": 2,
   "metadata": {},
   "outputs": [
    {
     "name": "stdout",
     "output_type": "stream",
     "text": [
      "Requirement already satisfied: Unidecode in c:\\users\\navvu\\anaconda3\\lib\\site-packages (1.3.4)\n"
     ]
    }
   ],
   "source": [
    "!pip install Unidecode"
   ]
  },
  {
   "cell_type": "code",
   "execution_count": 3,
   "metadata": {},
   "outputs": [
    {
     "name": "stdout",
     "output_type": "stream",
     "text": [
      "<class 'pandas.core.frame.DataFrame'>\n",
      "RangeIndex: 4768 entries, 0 to 4767\n",
      "Data columns (total 2 columns):\n",
      " #   Column       Non-Null Count  Dtype \n",
      "---  ------       --------------  ----- \n",
      " 0   Review_Text  4763 non-null   object\n",
      " 1   Sentiment    4766 non-null   object\n",
      "dtypes: object(2)\n",
      "memory usage: 74.6+ KB\n"
     ]
    }
   ],
   "source": [
    "# Read the data from CSV files\n",
    "temp = pd.read_csv('../For_preprocessing.csv')\n",
    "temp.info()"
   ]
  },
  {
   "cell_type": "code",
   "execution_count": 4,
   "metadata": {},
   "outputs": [],
   "source": [
    "temp=temp.dropna(subset=['Review_Text'])\n",
    "temp=temp.dropna(subset=['Sentiment'])\n",
    "temp = temp.reset_index(drop=True)\n",
    "\n",
    "temp_val = temp['Sentiment'].tolist()\n",
    "#len(temp_val)\n",
    "ind_list = []\n",
    "\n",
    "for i in range(len(temp['Sentiment'])):\n",
    "    if temp_val[i] != '1' and temp_val[i] != '2' and temp_val[i] != '3':\n",
    "        ind_list.append(i)\n",
    "        \n",
    "temp.reset_index(drop=True)\n",
    "temp.drop(temp.index[ind_list], inplace=True)"
   ]
  },
  {
   "cell_type": "code",
   "execution_count": 5,
   "metadata": {},
   "outputs": [
    {
     "name": "stdout",
     "output_type": "stream",
     "text": [
      "<class 'pandas.core.frame.DataFrame'>\n",
      "RangeIndex: 4699 entries, 0 to 4698\n",
      "Data columns (total 2 columns):\n",
      " #   Column       Non-Null Count  Dtype \n",
      "---  ------       --------------  ----- \n",
      " 0   Review_Text  4699 non-null   object\n",
      " 1   Sentiment    4699 non-null   object\n",
      "dtypes: object(2)\n",
      "memory usage: 73.5+ KB\n"
     ]
    }
   ],
   "source": [
    "temp = temp.reset_index(drop=True)\n",
    "temp.info()"
   ]
  },
  {
   "cell_type": "code",
   "execution_count": 6,
   "metadata": {},
   "outputs": [
    {
     "data": {
      "text/plain": [
       "{'1', '2', '3'}"
      ]
     },
     "execution_count": 6,
     "metadata": {},
     "output_type": "execute_result"
    }
   ],
   "source": [
    "st = temp['Sentiment'].tolist()\n",
    "st=set(st)\n",
    "st"
   ]
  },
  {
   "cell_type": "code",
   "execution_count": 7,
   "metadata": {},
   "outputs": [],
   "source": [
    "temp_val = temp['Sentiment'].tolist()\n",
    "#len(temp_val)\n",
    "ind_list = []\n",
    "\n",
    "for i in range(len(temp['Sentiment'])):\n",
    "    if temp_val[i] != '1' and temp_val[i] != '2' and temp_val[i] != '3':\n",
    "        ind_list.append(i)\n",
    "temp.reset_index(drop=True)\n",
    "temp.drop(temp.index[ind_list], inplace=True)"
   ]
  },
  {
   "cell_type": "code",
   "execution_count": 8,
   "metadata": {},
   "outputs": [],
   "source": [
    "scale_mapper3 = {\"1\":0, \"2\":1, \"3\":2}\n",
    "temp['Sentiment'] = temp['Sentiment'].replace(scale_mapper3)"
   ]
  },
  {
   "cell_type": "code",
   "execution_count": 9,
   "metadata": {},
   "outputs": [
    {
     "name": "stdout",
     "output_type": "stream",
     "text": [
      "<class 'pandas.core.frame.DataFrame'>\n",
      "RangeIndex: 4699 entries, 0 to 4698\n",
      "Data columns (total 2 columns):\n",
      " #   Column       Non-Null Count  Dtype \n",
      "---  ------       --------------  ----- \n",
      " 0   Review_Text  4699 non-null   object\n",
      " 1   Sentiment    4699 non-null   int64 \n",
      "dtypes: int64(1), object(1)\n",
      "memory usage: 73.5+ KB\n"
     ]
    }
   ],
   "source": [
    "temp = temp.reset_index(drop=True)\n",
    "temp.info()"
   ]
  },
  {
   "cell_type": "code",
   "execution_count": 10,
   "metadata": {},
   "outputs": [
    {
     "data": {
      "text/html": [
       "<div>\n",
       "<style scoped>\n",
       "    .dataframe tbody tr th:only-of-type {\n",
       "        vertical-align: middle;\n",
       "    }\n",
       "\n",
       "    .dataframe tbody tr th {\n",
       "        vertical-align: top;\n",
       "    }\n",
       "\n",
       "    .dataframe thead th {\n",
       "        text-align: right;\n",
       "    }\n",
       "</style>\n",
       "<table border=\"1\" class=\"dataframe\">\n",
       "  <thead>\n",
       "    <tr style=\"text-align: right;\">\n",
       "      <th></th>\n",
       "      <th>Review_Text</th>\n",
       "      <th>Sentiment</th>\n",
       "    </tr>\n",
       "  </thead>\n",
       "  <tbody>\n",
       "    <tr>\n",
       "      <th>0</th>\n",
       "      <td>Its really nice place to stay especially for b...</td>\n",
       "      <td>2</td>\n",
       "    </tr>\n",
       "    <tr>\n",
       "      <th>1</th>\n",
       "      <td>It seems that hotel does not check the basic a...</td>\n",
       "      <td>0</td>\n",
       "    </tr>\n",
       "    <tr>\n",
       "      <th>2</th>\n",
       "      <td>Worst hotel I have ever encountered. I will ne...</td>\n",
       "      <td>0</td>\n",
       "    </tr>\n",
       "    <tr>\n",
       "      <th>3</th>\n",
       "      <td>Had a good time in this hotel and the staff Ku...</td>\n",
       "      <td>2</td>\n",
       "    </tr>\n",
       "    <tr>\n",
       "      <th>4</th>\n",
       "      <td>good hotel and staff Veg food good non veg bre...</td>\n",
       "      <td>2</td>\n",
       "    </tr>\n",
       "    <tr>\n",
       "      <th>...</th>\n",
       "      <td>...</td>\n",
       "      <td>...</td>\n",
       "    </tr>\n",
       "    <tr>\n",
       "      <th>4694</th>\n",
       "      <td>My fifth stay at the hotel for business. Rooms...</td>\n",
       "      <td>2</td>\n",
       "    </tr>\n",
       "    <tr>\n",
       "      <th>4695</th>\n",
       "      <td>enjoyable</td>\n",
       "      <td>2</td>\n",
       "    </tr>\n",
       "    <tr>\n",
       "      <th>4696</th>\n",
       "      <td>Most impressive service by staff in all areas....</td>\n",
       "      <td>2</td>\n",
       "    </tr>\n",
       "    <tr>\n",
       "      <th>4697</th>\n",
       "      <td>The linens were smelling bad, and the elevator...</td>\n",
       "      <td>0</td>\n",
       "    </tr>\n",
       "    <tr>\n",
       "      <th>4698</th>\n",
       "      <td>Stayed at the Hyatt in Chennai for the first t...</td>\n",
       "      <td>2</td>\n",
       "    </tr>\n",
       "  </tbody>\n",
       "</table>\n",
       "<p>4699 rows × 2 columns</p>\n",
       "</div>"
      ],
      "text/plain": [
       "                                            Review_Text  Sentiment\n",
       "0     Its really nice place to stay especially for b...          2\n",
       "1     It seems that hotel does not check the basic a...          0\n",
       "2     Worst hotel I have ever encountered. I will ne...          0\n",
       "3     Had a good time in this hotel and the staff Ku...          2\n",
       "4     good hotel and staff Veg food good non veg bre...          2\n",
       "...                                                 ...        ...\n",
       "4694  My fifth stay at the hotel for business. Rooms...          2\n",
       "4695                                          enjoyable          2\n",
       "4696  Most impressive service by staff in all areas....          2\n",
       "4697  The linens were smelling bad, and the elevator...          0\n",
       "4698  Stayed at the Hyatt in Chennai for the first t...          2\n",
       "\n",
       "[4699 rows x 2 columns]"
      ]
     },
     "execution_count": 10,
     "metadata": {},
     "output_type": "execute_result"
    }
   ],
   "source": [
    "temp"
   ]
  },
  {
   "cell_type": "code",
   "execution_count": 11,
   "metadata": {},
   "outputs": [],
   "source": [
    "def tokenize_reg():\n",
    "    temp['Review_Text'] = temp['Review_Text'].replace(r'http\\S+','',regex=True).replace(r'www\\S+','',regex=True).replace(r'\\d+','',regex=True)\n",
    "    tokens = RegexpTokenizer(r'\\w+')\n",
    "    temp['Review_Text']=temp['Review_Text'].apply(lambda x:tokens.tokenize(x.lower()))\n",
    "    stop_words = set(stopwords.words('english')) \n",
    "    stop_words = stop_words.union(\",\",\"(\",\")\",\"[\",\"]\",\"{\",\"}\",\"#\",\"@\",\"!\",\":\",\";\",\".\",\"?\")\n",
    "    temp['Review_Text'] = temp['Review_Text'].apply(lambda x: [item for item in x if item not in stop_words])\n",
    "tokenize_reg()"
   ]
  },
  {
   "cell_type": "code",
   "execution_count": 12,
   "metadata": {},
   "outputs": [],
   "source": [
    "lem = WordNetLemmatizer()\n",
    "def lemm(text):\n",
    "    sent=[]\n",
    "    for word in text:\n",
    "        sent.append(lem.lemmatize(word))\n",
    "    return sent\n",
    "\n",
    "ps=PorterStemmer()\n",
    "\n",
    "def stemm(text):        \n",
    "    sent = []\n",
    "    for word in text:\n",
    "        sent.append(ps.stem(word))\n",
    "    return sent\n",
    "\n",
    "temp['Review_Text'] =  temp.apply(lambda x: stemm(lemm(x['Review_Text'])), axis=1)"
   ]
  },
  {
   "cell_type": "code",
   "execution_count": 13,
   "metadata": {},
   "outputs": [
    {
     "data": {
      "text/html": [
       "<div>\n",
       "<style scoped>\n",
       "    .dataframe tbody tr th:only-of-type {\n",
       "        vertical-align: middle;\n",
       "    }\n",
       "\n",
       "    .dataframe tbody tr th {\n",
       "        vertical-align: top;\n",
       "    }\n",
       "\n",
       "    .dataframe thead th {\n",
       "        text-align: right;\n",
       "    }\n",
       "</style>\n",
       "<table border=\"1\" class=\"dataframe\">\n",
       "  <thead>\n",
       "    <tr style=\"text-align: right;\">\n",
       "      <th></th>\n",
       "      <th>Review_Text</th>\n",
       "      <th>Sentiment</th>\n",
       "    </tr>\n",
       "  </thead>\n",
       "  <tbody>\n",
       "    <tr>\n",
       "      <th>0</th>\n",
       "      <td>realli nice place stay especi busi tourist purpos</td>\n",
       "      <td>2</td>\n",
       "    </tr>\n",
       "    <tr>\n",
       "      <th>1</th>\n",
       "      <td>seem hotel check basic amen room hand room tra...</td>\n",
       "      <td>0</td>\n",
       "    </tr>\n",
       "    <tr>\n",
       "      <th>2</th>\n",
       "      <td>worst hotel ever encount never think stay thii...</td>\n",
       "      <td>0</td>\n",
       "    </tr>\n",
       "    <tr>\n",
       "      <th>3</th>\n",
       "      <td>good time hotel staff kumar aishwarya hous kee...</td>\n",
       "      <td>2</td>\n",
       "    </tr>\n",
       "    <tr>\n",
       "      <th>4</th>\n",
       "      <td>good hotel staff veg food good non veg breakfa...</td>\n",
       "      <td>2</td>\n",
       "    </tr>\n",
       "    <tr>\n",
       "      <th>...</th>\n",
       "      <td>...</td>\n",
       "      <td>...</td>\n",
       "    </tr>\n",
       "    <tr>\n",
       "      <th>4694</th>\n",
       "      <td>fifth stay hotel busi room great restaur excel...</td>\n",
       "      <td>2</td>\n",
       "    </tr>\n",
       "    <tr>\n",
       "      <th>4695</th>\n",
       "      <td>enjoy</td>\n",
       "      <td>2</td>\n",
       "    </tr>\n",
       "    <tr>\n",
       "      <th>4696</th>\n",
       "      <td>impress servic staff area good restaur fit cen...</td>\n",
       "      <td>2</td>\n",
       "    </tr>\n",
       "    <tr>\n",
       "      <th>4697</th>\n",
       "      <td>linen smell bad elev pungent odour housekeep p...</td>\n",
       "      <td>0</td>\n",
       "    </tr>\n",
       "    <tr>\n",
       "      <th>4698</th>\n",
       "      <td>stay hyatt chennai first time refresh chang ho...</td>\n",
       "      <td>2</td>\n",
       "    </tr>\n",
       "  </tbody>\n",
       "</table>\n",
       "<p>4699 rows × 2 columns</p>\n",
       "</div>"
      ],
      "text/plain": [
       "                                            Review_Text  Sentiment\n",
       "0     realli nice place stay especi busi tourist purpos          2\n",
       "1     seem hotel check basic amen room hand room tra...          0\n",
       "2     worst hotel ever encount never think stay thii...          0\n",
       "3     good time hotel staff kumar aishwarya hous kee...          2\n",
       "4     good hotel staff veg food good non veg breakfa...          2\n",
       "...                                                 ...        ...\n",
       "4694  fifth stay hotel busi room great restaur excel...          2\n",
       "4695                                              enjoy          2\n",
       "4696  impress servic staff area good restaur fit cen...          2\n",
       "4697  linen smell bad elev pungent odour housekeep p...          0\n",
       "4698  stay hyatt chennai first time refresh chang ho...          2\n",
       "\n",
       "[4699 rows x 2 columns]"
      ]
     },
     "execution_count": 13,
     "metadata": {},
     "output_type": "execute_result"
    }
   ],
   "source": [
    "revs=temp['Review_Text'].tolist()\n",
    "for i in range(len(revs)):\n",
    "    revs[i]=' '.join(revs[i])\n",
    "temp['Review_Text'] = revs\n",
    "temp"
   ]
  },
  {
   "cell_type": "code",
   "execution_count": 14,
   "metadata": {},
   "outputs": [],
   "source": [
    "pd.to_numeric(temp['Sentiment'])\n",
    "st = temp['Sentiment'].tolist()\n",
    "st=set(st)"
   ]
  },
  {
   "cell_type": "code",
   "execution_count": 15,
   "metadata": {},
   "outputs": [
    {
     "name": "stdout",
     "output_type": "stream",
     "text": [
      "<class 'pandas.core.frame.DataFrame'>\n",
      "RangeIndex: 4699 entries, 0 to 4698\n",
      "Data columns (total 2 columns):\n",
      " #   Column       Non-Null Count  Dtype \n",
      "---  ------       --------------  ----- \n",
      " 0   Review_Text  4699 non-null   object\n",
      " 1   Sentiment    4699 non-null   int64 \n",
      "dtypes: int64(1), object(1)\n",
      "memory usage: 73.5+ KB\n"
     ]
    }
   ],
   "source": [
    "temp.info()"
   ]
  },
  {
   "cell_type": "code",
   "execution_count": 16,
   "metadata": {},
   "outputs": [],
   "source": [
    "documents = temp['Review_Text'].values.astype(\"U\")\n",
    "\n",
    "tf_vectorizer = TfidfVectorizer(stop_words='english')\n",
    "tf_features = tf_vectorizer.fit_transform(documents)"
   ]
  },
  {
   "cell_type": "code",
   "execution_count": 17,
   "metadata": {},
   "outputs": [
    {
     "data": {
      "text/plain": [
       "KMeans(max_iter=100, n_clusters=3, n_init=1)"
      ]
     },
     "execution_count": 17,
     "metadata": {},
     "output_type": "execute_result"
    }
   ],
   "source": [
    "k = 3\n",
    "tf_model = KMeans(n_clusters=k, init='k-means++', max_iter=100, n_init=1)\n",
    "tf_model.fit(tf_features)"
   ]
  },
  {
   "cell_type": "code",
   "execution_count": 18,
   "metadata": {},
   "outputs": [
    {
     "data": {
      "text/html": [
       "<div>\n",
       "<style scoped>\n",
       "    .dataframe tbody tr th:only-of-type {\n",
       "        vertical-align: middle;\n",
       "    }\n",
       "\n",
       "    .dataframe tbody tr th {\n",
       "        vertical-align: top;\n",
       "    }\n",
       "\n",
       "    .dataframe thead th {\n",
       "        text-align: right;\n",
       "    }\n",
       "</style>\n",
       "<table border=\"1\" class=\"dataframe\">\n",
       "  <thead>\n",
       "    <tr style=\"text-align: right;\">\n",
       "      <th></th>\n",
       "      <th>Review_Text</th>\n",
       "      <th>Sentiment</th>\n",
       "      <th>tf_cluster</th>\n",
       "    </tr>\n",
       "  </thead>\n",
       "  <tbody>\n",
       "    <tr>\n",
       "      <th>0</th>\n",
       "      <td>realli nice place stay especi busi tourist purpos</td>\n",
       "      <td>2</td>\n",
       "      <td>0</td>\n",
       "    </tr>\n",
       "    <tr>\n",
       "      <th>1</th>\n",
       "      <td>seem hotel check basic amen room hand room tra...</td>\n",
       "      <td>0</td>\n",
       "      <td>2</td>\n",
       "    </tr>\n",
       "    <tr>\n",
       "      <th>2</th>\n",
       "      <td>worst hotel ever encount never think stay thii...</td>\n",
       "      <td>0</td>\n",
       "      <td>2</td>\n",
       "    </tr>\n",
       "    <tr>\n",
       "      <th>3</th>\n",
       "      <td>good time hotel staff kumar aishwarya hous kee...</td>\n",
       "      <td>2</td>\n",
       "      <td>0</td>\n",
       "    </tr>\n",
       "    <tr>\n",
       "      <th>4</th>\n",
       "      <td>good hotel staff veg food good non veg breakfa...</td>\n",
       "      <td>2</td>\n",
       "      <td>1</td>\n",
       "    </tr>\n",
       "    <tr>\n",
       "      <th>...</th>\n",
       "      <td>...</td>\n",
       "      <td>...</td>\n",
       "      <td>...</td>\n",
       "    </tr>\n",
       "    <tr>\n",
       "      <th>4694</th>\n",
       "      <td>fifth stay hotel busi room great restaur excel...</td>\n",
       "      <td>2</td>\n",
       "      <td>0</td>\n",
       "    </tr>\n",
       "    <tr>\n",
       "      <th>4695</th>\n",
       "      <td>enjoy</td>\n",
       "      <td>2</td>\n",
       "      <td>0</td>\n",
       "    </tr>\n",
       "    <tr>\n",
       "      <th>4696</th>\n",
       "      <td>impress servic staff area good restaur fit cen...</td>\n",
       "      <td>2</td>\n",
       "      <td>2</td>\n",
       "    </tr>\n",
       "    <tr>\n",
       "      <th>4697</th>\n",
       "      <td>linen smell bad elev pungent odour housekeep p...</td>\n",
       "      <td>0</td>\n",
       "      <td>2</td>\n",
       "    </tr>\n",
       "    <tr>\n",
       "      <th>4698</th>\n",
       "      <td>stay hyatt chennai first time refresh chang ho...</td>\n",
       "      <td>2</td>\n",
       "      <td>0</td>\n",
       "    </tr>\n",
       "  </tbody>\n",
       "</table>\n",
       "<p>4699 rows × 3 columns</p>\n",
       "</div>"
      ],
      "text/plain": [
       "                                            Review_Text  Sentiment  tf_cluster\n",
       "0     realli nice place stay especi busi tourist purpos          2           0\n",
       "1     seem hotel check basic amen room hand room tra...          0           2\n",
       "2     worst hotel ever encount never think stay thii...          0           2\n",
       "3     good time hotel staff kumar aishwarya hous kee...          2           0\n",
       "4     good hotel staff veg food good non veg breakfa...          2           1\n",
       "...                                                 ...        ...         ...\n",
       "4694  fifth stay hotel busi room great restaur excel...          2           0\n",
       "4695                                              enjoy          2           0\n",
       "4696  impress servic staff area good restaur fit cen...          2           2\n",
       "4697  linen smell bad elev pungent odour housekeep p...          0           2\n",
       "4698  stay hyatt chennai first time refresh chang ho...          2           0\n",
       "\n",
       "[4699 rows x 3 columns]"
      ]
     },
     "execution_count": 18,
     "metadata": {},
     "output_type": "execute_result"
    }
   ],
   "source": [
    "temp['tf_cluster'] = tf_model.labels_\n",
    "temp"
   ]
  },
  {
   "cell_type": "code",
   "execution_count": 19,
   "metadata": {},
   "outputs": [],
   "source": [
    "clusters = temp.groupby('tf_cluster') "
   ]
  },
  {
   "cell_type": "code",
   "execution_count": 20,
   "metadata": {},
   "outputs": [
    {
     "name": "stdout",
     "output_type": "stream",
     "text": [
      "Cluster centroids: \n",
      "\n",
      "Cluster 0:\n",
      " stay\n",
      " hotel\n",
      " great\n",
      " staff\n",
      " nice\n",
      " excel\n",
      " help\n",
      " place\n",
      " food\n",
      " good\n",
      "------------\n",
      "Cluster 1:\n",
      " good\n",
      " hotel\n",
      " room\n",
      " servic\n",
      " locat\n",
      " food\n",
      " stay\n",
      " nice\n",
      " staff\n",
      " overal\n",
      "------------\n",
      "Cluster 2:\n",
      " room\n",
      " hotel\n",
      " good\n",
      " servic\n",
      " breakfast\n",
      " locat\n",
      " food\n",
      " need\n",
      " stay\n",
      " clean\n",
      "------------\n"
     ]
    }
   ],
   "source": [
    "print(\"Cluster centroids: \\n\")\n",
    "order_centroids = tf_model.cluster_centers_.argsort()[:, ::-1]\n",
    "terms = tf_vectorizer.get_feature_names()\n",
    "\n",
    "for i in range(k):\n",
    "    print(\"Cluster %d:\" % i)\n",
    "    for j in order_centroids[i, :10]: #print out 10 feature terms of each cluster\n",
    "        print (' %s' % terms[j])\n",
    "    print('------------')"
   ]
  },
  {
   "cell_type": "code",
   "execution_count": 21,
   "metadata": {},
   "outputs": [
    {
     "name": "stdout",
     "output_type": "stream",
     "text": [
      "Detailed classification report:\n",
      "\n",
      "\n",
      "              precision    recall  f1-score   support\n",
      "\n",
      "           0     0.0117    0.0330    0.0173       485\n",
      "           1     0.1193    0.1499    0.1329       827\n",
      "           2     0.5375    0.3637    0.4339      3387\n",
      "\n",
      "    accuracy                         0.2920      4699\n",
      "   macro avg     0.2229    0.1822    0.1947      4699\n",
      "weighted avg     0.4097    0.2920    0.3379      4699\n",
      "\n",
      "\n",
      "Confusion Matrix\n",
      "[[  16   28  441]\n",
      " [  84  124  619]\n",
      " [1268  887 1232]]\n",
      "Accuracy Score\n",
      "0.2919770163864652\n"
     ]
    }
   ],
   "source": [
    "from sklearn.metrics import confusion_matrix, classification_report,accuracy_score\n",
    "\n",
    "print(\"Detailed classification report:\")\n",
    "print()\n",
    "print()\n",
    "print(classification_report(temp['Sentiment'], temp['tf_cluster'], digits=4))\n",
    "print()\n",
    "print (\"Confusion Matrix\")\n",
    "print(confusion_matrix(temp['Sentiment'], temp['tf_cluster']))\n",
    "print(\"Accuracy Score\")\n",
    "print(accuracy_score(temp['Sentiment'], temp['tf_cluster']))"
   ]
  }
 ],
 "metadata": {
  "kernelspec": {
   "display_name": "Python 3",
   "language": "python",
   "name": "python3"
  },
  "language_info": {
   "codemirror_mode": {
    "name": "ipython",
    "version": 3
   },
   "file_extension": ".py",
   "mimetype": "text/x-python",
   "name": "python",
   "nbconvert_exporter": "python",
   "pygments_lexer": "ipython3",
   "version": "3.8.3"
  }
 },
 "nbformat": 4,
 "nbformat_minor": 4
}
