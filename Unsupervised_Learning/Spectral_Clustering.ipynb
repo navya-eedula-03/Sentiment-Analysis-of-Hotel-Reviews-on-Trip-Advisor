{
 "cells": [
  {
   "cell_type": "code",
   "execution_count": 1,
   "metadata": {},
   "outputs": [],
   "source": [
    "import pandas as pd\n",
    "import numpy as np\n",
    "\n",
    "from nltk.corpus import stopwords\n",
    "from nltk.tokenize import word_tokenize\n",
    "from nltk.stem import WordNetLemmatizer\n",
    "from nltk.stem import PorterStemmer\n",
    "from nltk.tokenize import RegexpTokenizer"
   ]
  },
  {
   "cell_type": "code",
   "execution_count": 2,
   "metadata": {},
   "outputs": [
    {
     "name": "stdout",
     "output_type": "stream",
     "text": [
      "<class 'pandas.core.frame.DataFrame'>\n",
      "RangeIndex: 4768 entries, 0 to 4767\n",
      "Data columns (total 2 columns):\n",
      " #   Column       Non-Null Count  Dtype \n",
      "---  ------       --------------  ----- \n",
      " 0   Review_Text  4763 non-null   object\n",
      " 1   Sentiment    4766 non-null   object\n",
      "dtypes: object(2)\n",
      "memory usage: 74.6+ KB\n"
     ]
    }
   ],
   "source": [
    "# Read the data from CSV files\n",
    "temp = pd.read_csv('../For_preprocessing.csv')\n",
    "temp.info()"
   ]
  },
  {
   "cell_type": "code",
   "execution_count": 3,
   "metadata": {},
   "outputs": [],
   "source": [
    "temp=temp.dropna(subset=['Review_Text'])\n",
    "temp=temp.dropna(subset=['Sentiment'])\n",
    "temp = temp.reset_index(drop=True)\n",
    "\n",
    "temp_val = temp['Sentiment'].tolist()\n",
    "#len(temp_val)\n",
    "ind_list = []\n",
    "\n",
    "for i in range(len(temp['Sentiment'])):\n",
    "    if temp_val[i] != '1' and temp_val[i] != '2' and temp_val[i] != '3':\n",
    "        ind_list.append(i)\n",
    "        \n",
    "temp.reset_index(drop=True)\n",
    "temp.drop(temp.index[ind_list], inplace=True)"
   ]
  },
  {
   "cell_type": "code",
   "execution_count": 4,
   "metadata": {},
   "outputs": [
    {
     "name": "stdout",
     "output_type": "stream",
     "text": [
      "<class 'pandas.core.frame.DataFrame'>\n",
      "RangeIndex: 4699 entries, 0 to 4698\n",
      "Data columns (total 2 columns):\n",
      " #   Column       Non-Null Count  Dtype \n",
      "---  ------       --------------  ----- \n",
      " 0   Review_Text  4699 non-null   object\n",
      " 1   Sentiment    4699 non-null   object\n",
      "dtypes: object(2)\n",
      "memory usage: 73.5+ KB\n"
     ]
    }
   ],
   "source": [
    "temp = temp.reset_index(drop=True)\n",
    "temp.info()"
   ]
  },
  {
   "cell_type": "code",
   "execution_count": 5,
   "metadata": {},
   "outputs": [
    {
     "data": {
      "text/plain": [
       "{'1', '2', '3'}"
      ]
     },
     "execution_count": 5,
     "metadata": {},
     "output_type": "execute_result"
    }
   ],
   "source": [
    "st = temp['Sentiment'].tolist()\n",
    "st=set(st)\n",
    "st"
   ]
  },
  {
   "cell_type": "code",
   "execution_count": 6,
   "metadata": {},
   "outputs": [],
   "source": [
    "# # Function to normalise hotel ratings in the range of -1 to 1\n",
    "\n",
    "# def change_labels(r):\n",
    "#     if(r=='1'):\n",
    "#         return '0'\n",
    "#     if(r=='2'):\n",
    "#         return '1'\n",
    "#     if(r=='3'):\n",
    "#         return '2' "
   ]
  },
  {
   "cell_type": "code",
   "execution_count": 7,
   "metadata": {},
   "outputs": [],
   "source": [
    "# temp['Sentiment'] = temp['Sentiment'].apply(lambda x:change_labels(x))\n",
    "# temp"
   ]
  },
  {
   "cell_type": "code",
   "execution_count": 8,
   "metadata": {},
   "outputs": [],
   "source": [
    "temp_val = temp['Sentiment'].tolist()\n",
    "#len(temp_val)\n",
    "ind_list = []\n",
    "\n",
    "for i in range(len(temp['Sentiment'])):\n",
    "    if temp_val[i] != '1' and temp_val[i] != '2' and temp_val[i] != '3':\n",
    "        ind_list.append(i)\n",
    "temp.reset_index(drop=True)\n",
    "temp.drop(temp.index[ind_list], inplace=True)"
   ]
  },
  {
   "cell_type": "code",
   "execution_count": 9,
   "metadata": {},
   "outputs": [],
   "source": [
    "scale_mapper3 = {\"1\":0, \"2\":1, \"3\":2}\n",
    "temp['Sentiment'] = temp['Sentiment'].replace(scale_mapper3)"
   ]
  },
  {
   "cell_type": "code",
   "execution_count": 10,
   "metadata": {},
   "outputs": [
    {
     "name": "stdout",
     "output_type": "stream",
     "text": [
      "<class 'pandas.core.frame.DataFrame'>\n",
      "RangeIndex: 4699 entries, 0 to 4698\n",
      "Data columns (total 2 columns):\n",
      " #   Column       Non-Null Count  Dtype \n",
      "---  ------       --------------  ----- \n",
      " 0   Review_Text  4699 non-null   object\n",
      " 1   Sentiment    4699 non-null   int64 \n",
      "dtypes: int64(1), object(1)\n",
      "memory usage: 73.5+ KB\n"
     ]
    }
   ],
   "source": [
    "temp = temp.reset_index(drop=True)\n",
    "temp.info()"
   ]
  },
  {
   "cell_type": "code",
   "execution_count": 11,
   "metadata": {},
   "outputs": [
    {
     "data": {
      "text/html": [
       "<div>\n",
       "<style scoped>\n",
       "    .dataframe tbody tr th:only-of-type {\n",
       "        vertical-align: middle;\n",
       "    }\n",
       "\n",
       "    .dataframe tbody tr th {\n",
       "        vertical-align: top;\n",
       "    }\n",
       "\n",
       "    .dataframe thead th {\n",
       "        text-align: right;\n",
       "    }\n",
       "</style>\n",
       "<table border=\"1\" class=\"dataframe\">\n",
       "  <thead>\n",
       "    <tr style=\"text-align: right;\">\n",
       "      <th></th>\n",
       "      <th>Review_Text</th>\n",
       "      <th>Sentiment</th>\n",
       "    </tr>\n",
       "  </thead>\n",
       "  <tbody>\n",
       "    <tr>\n",
       "      <th>0</th>\n",
       "      <td>Its really nice place to stay especially for b...</td>\n",
       "      <td>2</td>\n",
       "    </tr>\n",
       "    <tr>\n",
       "      <th>1</th>\n",
       "      <td>It seems that hotel does not check the basic a...</td>\n",
       "      <td>0</td>\n",
       "    </tr>\n",
       "    <tr>\n",
       "      <th>2</th>\n",
       "      <td>Worst hotel I have ever encountered. I will ne...</td>\n",
       "      <td>0</td>\n",
       "    </tr>\n",
       "    <tr>\n",
       "      <th>3</th>\n",
       "      <td>Had a good time in this hotel and the staff Ku...</td>\n",
       "      <td>2</td>\n",
       "    </tr>\n",
       "    <tr>\n",
       "      <th>4</th>\n",
       "      <td>good hotel and staff Veg food good non veg bre...</td>\n",
       "      <td>2</td>\n",
       "    </tr>\n",
       "    <tr>\n",
       "      <th>...</th>\n",
       "      <td>...</td>\n",
       "      <td>...</td>\n",
       "    </tr>\n",
       "    <tr>\n",
       "      <th>4694</th>\n",
       "      <td>My fifth stay at the hotel for business. Rooms...</td>\n",
       "      <td>2</td>\n",
       "    </tr>\n",
       "    <tr>\n",
       "      <th>4695</th>\n",
       "      <td>enjoyable</td>\n",
       "      <td>2</td>\n",
       "    </tr>\n",
       "    <tr>\n",
       "      <th>4696</th>\n",
       "      <td>Most impressive service by staff in all areas....</td>\n",
       "      <td>2</td>\n",
       "    </tr>\n",
       "    <tr>\n",
       "      <th>4697</th>\n",
       "      <td>The linens were smelling bad, and the elevator...</td>\n",
       "      <td>0</td>\n",
       "    </tr>\n",
       "    <tr>\n",
       "      <th>4698</th>\n",
       "      <td>Stayed at the Hyatt in Chennai for the first t...</td>\n",
       "      <td>2</td>\n",
       "    </tr>\n",
       "  </tbody>\n",
       "</table>\n",
       "<p>4699 rows × 2 columns</p>\n",
       "</div>"
      ],
      "text/plain": [
       "                                            Review_Text  Sentiment\n",
       "0     Its really nice place to stay especially for b...          2\n",
       "1     It seems that hotel does not check the basic a...          0\n",
       "2     Worst hotel I have ever encountered. I will ne...          0\n",
       "3     Had a good time in this hotel and the staff Ku...          2\n",
       "4     good hotel and staff Veg food good non veg bre...          2\n",
       "...                                                 ...        ...\n",
       "4694  My fifth stay at the hotel for business. Rooms...          2\n",
       "4695                                          enjoyable          2\n",
       "4696  Most impressive service by staff in all areas....          2\n",
       "4697  The linens were smelling bad, and the elevator...          0\n",
       "4698  Stayed at the Hyatt in Chennai for the first t...          2\n",
       "\n",
       "[4699 rows x 2 columns]"
      ]
     },
     "execution_count": 11,
     "metadata": {},
     "output_type": "execute_result"
    }
   ],
   "source": [
    "temp"
   ]
  },
  {
   "cell_type": "code",
   "execution_count": 12,
   "metadata": {},
   "outputs": [],
   "source": [
    "# Class to perform spectral clustering for k clusters, given k\n",
    "\n",
    "from matplotlib import patches\n",
    "\n",
    "class SpectralClustering:\n",
    "    \n",
    "    def __init__(self, G):\n",
    "        # Initialize the graph, nodes and the normalized Laplacian\n",
    "\n",
    "        self.graph = G\n",
    "        self.normalized_laplacian = nx.linalg.normalized_laplacian_matrix(G).toarray()\n",
    "        self.nodes = G.nodes()\n",
    "\n",
    "    def compute_eigenspace(self):\n",
    "        # Compute the eigenvalues and the eigenvectors using Numpy and sort them in ascending order \n",
    "\n",
    "        eigenvalues, eigenvectors = np.linalg.eig(self.normalized_laplacian)\n",
    "\n",
    "        sort_index = np.argsort(eigenvalues) # Returns the list of indices that would sort the array\n",
    "        sorted_eigenvectors = eigenvectors[:, sort_index]\n",
    "\n",
    "        return sorted_eigenvectors\n",
    "\n",
    "    def fit(self, k):\n",
    "        \"\"\"\n",
    "        Step 1: Extract the k eigen vectors and stack them vertically to form a matrix (i.e each vector is a column)\n",
    "        Step 2: Every row of this matrix represents the features of the respective nodes of the graph\n",
    "        Step 3: Perform K-Means clustering on this dataset to identify k clusters\n",
    "\n",
    "        \"\"\"\n",
    "        eigenvectors = self.compute_eigenspace()\n",
    "        k_eigenvectors = np.array(eigenvectors)[:,:k]\n",
    "        dataset = pd.DataFrame(k_eigenvectors, index=self.nodes)\n",
    "\n",
    "        # print(dataset)\n",
    "\n",
    "        k_means_clusters = KMeans(n_clusters = k, random_state=42)\n",
    "        self.clusters = k_means_clusters.fit(k_eigenvectors)\n",
    "        \n",
    "    def predict_labels(self):\n",
    "        # Returns the labels \n",
    "        return self.clusters.labels_\n",
    "\n",
    "    def assign_labels(self, labels):\n",
    "        # Helper to assign the labels as node attributes\n",
    "        for i,node in enumerate(self.graph.nodes()):\n",
    "            self.graph.nodes[node]['label'] = labels[i]\n",
    "\n",
    "    def plot_graph(self, n_clusters, title='Graph after Spectral Clustering'):\n",
    "        # Plots the graph \n",
    "\n",
    "        labels = self.clusters.labels_\n",
    "        self.assign_labels(labels)\n",
    "\n",
    "        colour_list = ['blue','green','red','yellow','cyan', 'magenta','lightblue','grey']\n",
    "        sampled_colours = dict(zip(set(labels),random.sample(colour_list, n_clusters)))\n",
    "\n",
    "        legend_handles = []\n",
    "        for label, color in sampled_colours.items():\n",
    "            colour_handle = patches.Patch(color=color, label=label)\n",
    "            legend_handles.append(colour_handle)\n",
    "\n",
    "        colours = [sampled_colours[i] for i in labels]\n",
    "\n",
    "        pos_fr = nx.fruchterman_reingold_layout(self.graph)\n",
    "        plt.figure(figsize=(8,8))\n",
    "        plt.title(title)\n",
    "        plt.legend(handles=legend_handles)\n",
    "        nx.draw(self.graph, pos=pos_fr, node_size=500, node_color=colours, with_labels=True)\n",
    "        plt.show()"
   ]
  },
  {
   "cell_type": "code",
   "execution_count": 13,
   "metadata": {},
   "outputs": [
    {
     "ename": "NameError",
     "evalue": "name 'G' is not defined",
     "output_type": "error",
     "traceback": [
      "\u001b[1;31m---------------------------------------------------------------------------\u001b[0m",
      "\u001b[1;31mNameError\u001b[0m                                 Traceback (most recent call last)",
      "\u001b[1;32m<ipython-input-13-30e4966fabb9>\u001b[0m in \u001b[0;36m<module>\u001b[1;34m\u001b[0m\n\u001b[0;32m      3\u001b[0m \u001b[1;33m\u001b[0m\u001b[0m\n\u001b[0;32m      4\u001b[0m \u001b[0mk\u001b[0m \u001b[1;33m=\u001b[0m \u001b[1;36m2\u001b[0m\u001b[1;33m\u001b[0m\u001b[1;33m\u001b[0m\u001b[0m\n\u001b[1;32m----> 5\u001b[1;33m \u001b[0mSpecClust\u001b[0m \u001b[1;33m=\u001b[0m \u001b[0mSpectralClustering\u001b[0m\u001b[1;33m(\u001b[0m\u001b[0mG\u001b[0m\u001b[1;33m)\u001b[0m\u001b[1;33m\u001b[0m\u001b[1;33m\u001b[0m\u001b[0m\n\u001b[0m\u001b[0;32m      6\u001b[0m \u001b[0mSpecClust\u001b[0m\u001b[1;33m.\u001b[0m\u001b[0mfit\u001b[0m\u001b[1;33m(\u001b[0m\u001b[0mk\u001b[0m\u001b[1;33m)\u001b[0m\u001b[1;33m\u001b[0m\u001b[1;33m\u001b[0m\u001b[0m\n\u001b[0;32m      7\u001b[0m \u001b[0mclustering_labels\u001b[0m \u001b[1;33m=\u001b[0m \u001b[0mSpecClust\u001b[0m\u001b[1;33m.\u001b[0m\u001b[0mpredict_labels\u001b[0m\u001b[1;33m(\u001b[0m\u001b[1;33m)\u001b[0m\u001b[1;33m\u001b[0m\u001b[1;33m\u001b[0m\u001b[0m\n",
      "\u001b[1;31mNameError\u001b[0m: name 'G' is not defined"
     ]
    }
   ],
   "source": [
    "# Performing Spectral Clustering on the graph\n",
    "from sklearn.cluster import KMeans\n",
    "\n",
    "k = 2\n",
    "SpecClust = SpectralClustering(G)\n",
    "SpecClust.fit(k)\n",
    "clustering_labels = SpecClust.predict_labels()\n",
    "# print(labels)\n",
    "\n",
    "for i,node in enumerate(G.nodes()):\n",
    "    G.nodes[node]['label'] = clustering_labels[i]\n",
    "\n",
    "colour_map = ['']*len(clustering_labels)\n",
    "for i, label in enumerate(clustering_labels):\n",
    "    if label == 0:\n",
    "        colour_map[i] = 'lightgreen'\n",
    "    else:\n",
    "        colour_map[i] = \"red\"\n",
    "\n",
    "# nx.draw(G, with_labels=True, node_color=colour_map)\n",
    "SpecClust.plot_graph(k, title=\"Graph after Spectral Clustering\")"
   ]
  },
  {
   "cell_type": "code",
   "execution_count": null,
   "metadata": {},
   "outputs": [],
   "source": []
  }
 ],
 "metadata": {
  "kernelspec": {
   "display_name": "Python 3",
   "language": "python",
   "name": "python3"
  },
  "language_info": {
   "codemirror_mode": {
    "name": "ipython",
    "version": 3
   },
   "file_extension": ".py",
   "mimetype": "text/x-python",
   "name": "python",
   "nbconvert_exporter": "python",
   "pygments_lexer": "ipython3",
   "version": "3.8.3"
  }
 },
 "nbformat": 4,
 "nbformat_minor": 4
}
